{
 "cells": [
  {
   "cell_type": "markdown",
   "metadata": {},
   "source": [
    "# Machine Learning with Spark Exercise (20 points)\n",
    "\n",
    "**Read through the entire workbook before beginning work to familiarize with what is being asked.**\n",
    "\n",
    "In this exericise, you will work with a fairly large dataset and do some modeling and predictions using Spark Machine Learning. The dataset being used is the 2013 NYC Taxi Dataset [https://archive.org/details/nycTaxiTripData2013](https://archive.org/details/nycTaxiTripData2013). The original dataset consists of two files, `trip_data` and `trip_fare`, which need to be merged to create the dataset for modeling. \n",
    "\n",
    "The merge has already been performed and stored as a parquet file on S3 because there were some data issues that were not covered in class. The workbook [merge-fare-and-trip-data-create-parquet.ipynb](merge-fare-and-trip-data-create-parquet.ipynb) contains code for creating the merged set (for reference.)\n",
    "\n",
    "This is an interactive PySpark session. Remember that when you open this notebook the SparkContext and SparkSession are already created, and they are in the sc and spark variables, respectively. You can run the following two cells to make sure that the Kernel is active.\n",
    "\n",
    "**Do not insert any additional cells than the ones that are provided for assignment submission. You may add cells as you work through the notebook, but you need to delete extra cells and keep the initial structure.**\n",
    "\n",
    "## Some tips you may want to use:\n",
    "\n",
    "* You may consider saving intermediate datasets (i.e. training and testing) when you first create them. To save intermediate datasets, save them as **parquet** files in your own S3 bucket. To save, use the following code: `df.write.parquet(\"s3://[[your-s3-bucket]]/data_location/\", mode=\"overwrite\")`.\n",
    "* You may also want to save a model object in S3 after you train it, especially if training takes a while. To save a model object, use the following code: `model.save(\"s3://[[your-s3-bucket]]/model_location/\")`\n",
    "* When creating the Machine Learning pipelines, you may want to try it first on a minuscule sample of your training data to make sure the pipelines work as planned. To create a tiny DataFrame, use the `limit` method: `df.limit(100)` (this creates a small DataFrame with the first 100 rows from df.)"
   ]
  },
  {
   "cell_type": "code",
   "execution_count": 2,
   "metadata": {},
   "outputs": [
    {
     "data": {
      "text/html": [
       "\n",
       "        <div>\n",
       "            <p><b>SparkContext</b></p>\n",
       "\n",
       "            <p><a href=\"http://ip-172-31-95-188.ec2.internal:4040\">Spark UI</a></p>\n",
       "\n",
       "            <dl>\n",
       "              <dt>Version</dt>\n",
       "                <dd><code>v2.2.1</code></dd>\n",
       "              <dt>Master</dt>\n",
       "                <dd><code>yarn</code></dd>\n",
       "              <dt>AppName</dt>\n",
       "                <dd><code>PySparkShell</code></dd>\n",
       "            </dl>\n",
       "        </div>\n",
       "        "
      ],
      "text/plain": [
       "<SparkContext master=yarn appName=PySparkShell>"
      ]
     },
     "execution_count": 2,
     "metadata": {},
     "output_type": "execute_result"
    }
   ],
   "source": [
    "sc"
   ]
  },
  {
   "cell_type": "code",
   "execution_count": 3,
   "metadata": {},
   "outputs": [
    {
     "data": {
      "text/html": [
       "\n",
       "            <div>\n",
       "                <p><b>SparkSession - hive</b></p>\n",
       "                \n",
       "        <div>\n",
       "            <p><b>SparkContext</b></p>\n",
       "\n",
       "            <p><a href=\"http://ip-172-31-95-188.ec2.internal:4040\">Spark UI</a></p>\n",
       "\n",
       "            <dl>\n",
       "              <dt>Version</dt>\n",
       "                <dd><code>v2.2.1</code></dd>\n",
       "              <dt>Master</dt>\n",
       "                <dd><code>yarn</code></dd>\n",
       "              <dt>AppName</dt>\n",
       "                <dd><code>PySparkShell</code></dd>\n",
       "            </dl>\n",
       "        </div>\n",
       "        \n",
       "            </div>\n",
       "        "
      ],
      "text/plain": [
       "<pyspark.sql.session.SparkSession at 0x7f7f6457c950>"
      ]
     },
     "execution_count": 3,
     "metadata": {},
     "output_type": "execute_result"
    }
   ],
   "source": [
    "spark"
   ]
  },
  {
   "cell_type": "markdown",
   "metadata": {},
   "source": [
    "## Import necessary libraries\n",
    "\n",
    "The following cell will load all required libraries and functions for this exercise."
   ]
  },
  {
   "cell_type": "code",
   "execution_count": 4,
   "metadata": {},
   "outputs": [],
   "source": [
    "from pyspark.sql.functions import UserDefinedFunction\n",
    "from pyspark.ml import Pipeline\n",
    "from pyspark.ml.feature import OneHotEncoder, StringIndexer, VectorIndexer\n",
    "from pyspark.sql.types import *\n",
    "from pyspark.sql.functions import *\n",
    "from pyspark.sql import functions\n",
    "from pyspark.ml.classification import LogisticRegression\n",
    "from pyspark.mllib.evaluation import BinaryClassificationMetrics\n",
    "from pyspark.ml.feature import RFormula\n",
    "import matplotlib.pyplot as plt\n",
    "import numpy as np\n",
    "import datetime"
   ]
  },
  {
   "cell_type": "markdown",
   "metadata": {},
   "source": [
    "## Part 1 - Load the data, convert data types and create new features (5 points)"
   ]
  },
  {
   "cell_type": "markdown",
   "metadata": {},
   "source": [
    "### Load the data\n",
    "\n",
    "In the following cell, create an object called `nyctaxi` which loads the **parquet** files from `s3://bigdatateaching/nyctaxi-2013/merged-parquet/`.\n",
    "\n",
    "This step took approximately 8 seconds during the development of the workbook using the cluster configuration in the assignment. The workbook will have spots were running times during development are written for reference as a comment in a cell. Your run times may vary, but these values will give you an indication."
   ]
  },
  {
   "cell_type": "code",
   "execution_count": 5,
   "metadata": {},
   "outputs": [],
   "source": [
    "# ~ 8 seconds\n",
    "nyctaxi = spark.read.parquet(\"s3://bigdatateaching/nyctaxi-2013/merged-parquet/\")"
   ]
  },
  {
   "cell_type": "markdown",
   "metadata": {},
   "source": [
    "In the next cell print the schema of `nyctaxi`."
   ]
  },
  {
   "cell_type": "code",
   "execution_count": 52,
   "metadata": {},
   "outputs": [
    {
     "name": "stdout",
     "output_type": "stream",
     "text": [
      "root\n",
      " |-- medallion: string (nullable = true)\n",
      " |-- hack_license: string (nullable = true)\n",
      " |-- vendor_id: string (nullable = true)\n",
      " |-- pickup_datetime: string (nullable = true)\n",
      " |-- payment_type: string (nullable = true)\n",
      " |-- fare_amount: string (nullable = true)\n",
      " |-- surcharge: string (nullable = true)\n",
      " |-- mta_tax: string (nullable = true)\n",
      " |-- tip_amount: string (nullable = true)\n",
      " |-- tolls_amount: string (nullable = true)\n",
      " |-- total: string (nullable = true)\n",
      " |-- rate_code: string (nullable = true)\n",
      " |-- store_and_fwd_flag: string (nullable = true)\n",
      " |-- dropoff_datetime: string (nullable = true)\n",
      " |-- passenger_count: string (nullable = true)\n",
      " |-- trip_time_in_secs: string (nullable = true)\n",
      " |-- trip_distance: string (nullable = true)\n",
      " |-- pickup_longitude: string (nullable = true)\n",
      " |-- pickup_latitude: string (nullable = true)\n",
      " |-- dropoff_longitude: string (nullable = true)\n",
      " |-- dropoff_latitude: string (nullable = true)\n",
      "\n"
     ]
    }
   ],
   "source": [
    "nyctaxi.printSchema()"
   ]
  },
  {
   "cell_type": "markdown",
   "metadata": {},
   "source": [
    "In the next cell, count the number of records for `nyctaxi`."
   ]
  },
  {
   "cell_type": "code",
   "execution_count": 53,
   "metadata": {},
   "outputs": [
    {
     "data": {
      "text/plain": [
       "173185091"
      ]
     },
     "execution_count": 53,
     "metadata": {},
     "output_type": "execute_result"
    }
   ],
   "source": [
    "# ~ 12 seconds\n",
    "nyctaxi.count()"
   ]
  },
  {
   "cell_type": "markdown",
   "metadata": {},
   "source": [
    "In the next cell, show the first 10 records of `nyctaxi` to see what the data looks like."
   ]
  },
  {
   "cell_type": "code",
   "execution_count": 54,
   "metadata": {},
   "outputs": [
    {
     "name": "stdout",
     "output_type": "stream",
     "text": [
      "+--------------------+--------------------+---------+-------------------+------------+-----------+---------+-------+----------+------------+-----+---------+------------------+-------------------+---------------+-----------------+-------------+----------------+---------------+-----------------+----------------+\n",
      "|           medallion|        hack_license|vendor_id|    pickup_datetime|payment_type|fare_amount|surcharge|mta_tax|tip_amount|tolls_amount|total|rate_code|store_and_fwd_flag|   dropoff_datetime|passenger_count|trip_time_in_secs|trip_distance|pickup_longitude|pickup_latitude|dropoff_longitude|dropoff_latitude|\n",
      "+--------------------+--------------------+---------+-------------------+------------+-----------+---------+-------+----------+------------+-----+---------+------------------+-------------------+---------------+-----------------+-------------+----------------+---------------+-----------------+----------------+\n",
      "|00005007A9F30E289...|132A7AC13C8471488...|      CMT|2013-07-30 22:50:31|         CRD|       10.5|      0.5|    0.5|         3|           0| 14.5|        1|                 N|2013-07-30 23:01:50|              1|              679|         2.50|      -73.981644|      40.752388|       -73.982964|       40.775761|\n",
      "|00005007A9F30E289...|16780B3E72BAA7A5C...|      CMT|2013-07-16 19:22:49|         CSH|        2.5|        1|    0.5|         0|           0|    4|        1|                 N|2013-07-16 19:40:47|              1|             1078|          .00|       -73.98587|      40.759899|       -73.985451|       40.747894|\n",
      "|00005007A9F30E289...|24C122A944FB8EE21...|      CMT|2013-10-11 11:18:25|         CRD|        5.5|        0|    0.5|         1|           0|    7|        1|                 Y|2013-10-11 11:23:11|              1|              285|          .90|      -73.997002|       40.72245|       -73.986115|       40.729259|\n",
      "|00005007A9F30E289...|24C122A944FB8EE21...|      CMT|2013-10-21 07:45:29|         CRD|        7.5|        0|    0.5|       1.1|           0|  9.1|        1|                 N|2013-10-21 07:52:41|              1|              432|         1.70|      -73.958084|      40.778934|       -73.975479|       40.760258|\n",
      "|00005007A9F30E289...|24C122A944FB8EE21...|      CMT|2013-10-21 16:23:04|         CSH|        5.5|        1|    0.5|         0|           0|    7|        1|                 N|2013-10-21 16:28:01|              3|              297|          .90|       -73.97213|      40.793816|       -73.962753|       40.804379|\n",
      "|00005007A9F30E289...|24C122A944FB8EE21...|      CMT|2013-10-23 06:40:22|         CRD|         10|        0|    0.5|       2.1|           0| 12.6|        1|                 N|2013-10-23 06:48:34|              1|              491|         2.80|      -73.973419|      40.784752|       -73.982384|       40.755123|\n",
      "|00005007A9F30E289...|24C122A944FB8EE21...|      CMT|2013-10-30 09:52:19|         CRD|          6|        0|    0.5|       1.3|           0|  7.8|        1|                 N|2013-10-30 09:59:08|              1|              409|          .70|      -73.980362|      40.751549|       -73.985512|       40.743267|\n",
      "|00005007A9F30E289...|24C122A944FB8EE21...|      CMT|2013-10-30 14:32:32|         CSH|        7.5|        0|    0.5|         0|           0|    8|        1|                 N|2013-10-30 14:41:54|              1|              561|          .90|       -73.98616|      40.755646|       -73.969231|       40.761013|\n",
      "|00005007A9F30E289...|24C122A944FB8EE21...|      CMT|2013-11-07 07:40:09|         CSH|        2.5|        0|    0.5|         0|           0|    3|        1|                 N|2013-11-07 07:45:16|              1|              307|          .00|      -73.956886|       40.77837|       -73.970078|       40.764481|\n",
      "|00005007A9F30E289...|24C122A944FB8EE21...|      CMT|2013-11-07 10:26:14|         CRD|          8|        0|    0.5|         1|           0|  9.5|        1|                 N|2013-11-07 10:37:14|              1|              660|         1.00|       -74.00441|      40.752228|       -73.992271|       40.755032|\n",
      "+--------------------+--------------------+---------+-------------------+------------+-----------+---------+-------+----------+------------+-----+---------+------------------+-------------------+---------------+-----------------+-------------+----------------+---------------+-----------------+----------------+\n",
      "only showing top 10 rows\n",
      "\n"
     ]
    }
   ],
   "source": [
    "# ~ 4 seconds\n",
    "nyctaxi.show(10)"
   ]
  },
  {
   "cell_type": "markdown",
   "metadata": {},
   "source": [
    "### Convert data types\n",
    "\n",
    "As you can see from printing the `nyctaxi` schema, all of the fields were loaded as strings. This will not work for modeling purposes. You need to convert some of the fields to other types. In the following cell, create a new DataFrame called `nyctaxi_converted` and use the `withColumn` method to do the following conversions:\n",
    "\n",
    " Field Name | Type\n",
    "------------|-----\n",
    "trip_time_in_secs | integer\n",
    "trip_distance | float\n",
    "pickup_latitude | float\n",
    "pickup_longitude | float\n",
    "dropoff_latitude | float\n",
    "dropoff_longitude | float\n",
    "fare_amount | float\n",
    "surcharge | float\n",
    "mta_tax | float\n",
    "tip_amount | float\n",
    "tolls_amount | float\n",
    "total | float\n",
    "pickup_datetime | timestamp\n",
    "dropoff_datetime | timestamp\n",
    "\n",
    "\n"
   ]
  },
  {
   "cell_type": "code",
   "execution_count": 77,
   "metadata": {},
   "outputs": [
    {
     "name": "stdout",
     "output_type": "stream",
     "text": [
      "root\n",
      " |-- medallion: string (nullable = true)\n",
      " |-- hack_license: string (nullable = true)\n",
      " |-- vendor_id: string (nullable = true)\n",
      " |-- pickup_datetime: timestamp (nullable = true)\n",
      " |-- payment_type: string (nullable = true)\n",
      " |-- fare_amount: float (nullable = true)\n",
      " |-- surcharge: float (nullable = true)\n",
      " |-- mta_tax: float (nullable = true)\n",
      " |-- tip_amount: float (nullable = true)\n",
      " |-- tolls_amount: float (nullable = true)\n",
      " |-- total: float (nullable = true)\n",
      " |-- rate_code: string (nullable = true)\n",
      " |-- store_and_fwd_flag: string (nullable = true)\n",
      " |-- dropoff_datetime: timestamp (nullable = true)\n",
      " |-- passenger_count: integer (nullable = true)\n",
      " |-- trip_time_in_secs: integer (nullable = true)\n",
      " |-- trip_distance: float (nullable = true)\n",
      " |-- pickup_longitude: float (nullable = true)\n",
      " |-- pickup_latitude: float (nullable = true)\n",
      " |-- dropoff_longitude: float (nullable = true)\n",
      " |-- dropoff_latitude: float (nullable = true)\n",
      "\n"
     ]
    }
   ],
   "source": [
    "colname_float = [\"trip_distance\",\"pickup_latitude\",\"pickup_longitude\",\"dropoff_latitude\",\"dropoff_longitude\",\"fare_amount\",\"surcharge\",\"mta_tax\",\"tip_amount\",\"tolls_amount\",\"total\"]\n",
    "colname_timestamp = [\"pickup_datetime\",\"dropoff_datetime\"]\n",
    "\n",
    "nyctaxi_converted = nyctaxi.withColumn(\"passenger_count\", nyctaxi[\"passenger_count\"].cast(\"integer\"))\n",
    "nyctaxi_converted = nyctaxi_converted.withColumn(\"trip_time_in_secs\", nyctaxi[\"trip_time_in_secs\"].cast(\"integer\"))\n",
    "\n",
    "\n",
    "for i in colname_float:\n",
    "    nyctaxi_converted = nyctaxi_converted.withColumn(i, nyctaxi[i].cast(\"float\"))\n",
    "    \n",
    "for i in colname_timestamp:\n",
    "    nyctaxi_converted = nyctaxi_converted.withColumn(i, nyctaxi[i].cast(\"timestamp\"))\n",
    "\n",
    "nyctaxi_converted.printSchema()    "
   ]
  },
  {
   "cell_type": "markdown",
   "metadata": {},
   "source": [
    "### Add new features"
   ]
  },
  {
   "cell_type": "markdown",
   "metadata": {},
   "source": [
    "You will add a few new fields with data derived from current fields as new features.\n",
    "\n",
    "In the following cell, add the following columns to `nyctaxi_converted` using the `withColumn` method:\n",
    "\n",
    "* A column called `pickup_hour` with the hour from `pickup_datetime`. This provides an integer from 0 to 23.\n",
    "* A column called `pickup_week` with the week of the year from `pickup_datetime`. This provides an integer from 1 to 53.\n",
    "* A column called `weekday` with the name of the day of the week ffrom `pickup_datetime`, in long format.\n",
    "* A column called `tipped` which is an indicator of wether or not there was a tip. If the tip is 0, then it's 0, otherwise 1."
   ]
  },
  {
   "cell_type": "code",
   "execution_count": 80,
   "metadata": {},
   "outputs": [
    {
     "name": "stdout",
     "output_type": "stream",
     "text": [
      "root\n",
      " |-- medallion: string (nullable = true)\n",
      " |-- hack_license: string (nullable = true)\n",
      " |-- vendor_id: string (nullable = true)\n",
      " |-- pickup_datetime: timestamp (nullable = true)\n",
      " |-- payment_type: string (nullable = true)\n",
      " |-- fare_amount: float (nullable = true)\n",
      " |-- surcharge: float (nullable = true)\n",
      " |-- mta_tax: float (nullable = true)\n",
      " |-- tip_amount: float (nullable = true)\n",
      " |-- tolls_amount: float (nullable = true)\n",
      " |-- total: float (nullable = true)\n",
      " |-- rate_code: string (nullable = true)\n",
      " |-- store_and_fwd_flag: string (nullable = true)\n",
      " |-- dropoff_datetime: timestamp (nullable = true)\n",
      " |-- passenger_count: integer (nullable = true)\n",
      " |-- trip_time_in_secs: float (nullable = true)\n",
      " |-- trip_distance: float (nullable = true)\n",
      " |-- pickup_longitude: float (nullable = true)\n",
      " |-- pickup_latitude: float (nullable = true)\n",
      " |-- dropoff_longitude: float (nullable = true)\n",
      " |-- dropoff_latitude: float (nullable = true)\n",
      " |-- pickup_hour: integer (nullable = true)\n",
      " |-- pickup_week: integer (nullable = true)\n",
      " |-- weekday: string (nullable = true)\n",
      " |-- tipped: integer (nullable = false)\n",
      "\n"
     ]
    }
   ],
   "source": [
    "nyctaxi_converted = nyctaxi_converted.withColumn(\"trip_time_in_secs\", nyctaxi_converted[\"trip_time_in_secs\"].cast(\"float\"))\n",
    "nyctaxi_converted = nyctaxi_converted.withColumn(\"pickup_hour\", hour(nyctaxi_converted.pickup_datetime))\n",
    "nyctaxi_converted = nyctaxi_converted.withColumn(\"pickup_week\", weekofyear(nyctaxi_converted.pickup_datetime))\n",
    "nyctaxi_converted = nyctaxi_converted.withColumn(\"weekday\", date_format(\"pickup_datetime\", \"EEEE\"))  \n",
    "nyctaxi_converted = nyctaxi_converted.withColumn(\"tipped\", when(nyctaxi_converted[\"tip_amount\"] == 0, 0).otherwise(1))\n",
    "\n",
    "nyctaxi_converted.printSchema()"
   ]
  },
  {
   "cell_type": "markdown",
   "metadata": {},
   "source": [
    "For the creation of the next feature, you will use a SparkSQL statement. Therefore, you need to register your DataFrame. In the next cell, register the `nyctaxi_converted` DataFrame as `nyctaxi_converted_tbl.`"
   ]
  },
  {
   "cell_type": "code",
   "execution_count": 81,
   "metadata": {},
   "outputs": [],
   "source": [
    "nyctaxi_converted.createOrReplaceTempView(\"nyctaxi_converted_tbl\")"
   ]
  },
  {
   "cell_type": "markdown",
   "metadata": {},
   "source": [
    "In the next cell, you will add a new column called `time_bins` that takes the value of `pickup_hour` and buckets it according to the following rules. You must assign the SQL statement back to `nyctaxi_converted`:\n",
    "\n",
    "* If the value of the pickup hour is at-or-before 6am, or at-or-after 8pm, then the value is \"night\"\n",
    "* If the value of the pickup hour is between 7am and 10am (inclusive), then the value is \"am_rush\"\n",
    "* If the value of the pickup hour is between 11am and 3pm (inclusive), then the value is \"afternoon\"\n",
    "* If the value of the pickup hour is between 4pm and 7pm (inclusive), then the value is \"pm_rush\"\n"
   ]
  },
  {
   "cell_type": "code",
   "execution_count": 82,
   "metadata": {},
   "outputs": [],
   "source": [
    "from pyspark.sql.functions import col,when\n",
    "                                             \n",
    "nyctaxi_converted = spark.sql(\"\"\"SELECT *, CASE WHEN pickup_hour <= 6 OR pickup_hour >= 20 THEN 'night' \n",
    "                WHEN pickup_hour BETWEEN 7 AND 10 THEN 'am_rush'\n",
    "                WHEN pickup_hour BETWEEN 11 AND 15 THEN 'afternoon'\n",
    "                WHEN pickup_hour BETWEEN 16 AND 19 THEN 'pm_rush'\n",
    "                end as time_bins\n",
    "                FROM nyctaxi_converted_tbl\"\"\")\n",
    "\n",
    "#nyctaxi_converted = nyctaxi_converted.withColumn(\"trip_time_in_secs\", nyctaxi[\"trip_time_in_secs\"].cast(\"float\"))\n"
   ]
  },
  {
   "cell_type": "markdown",
   "metadata": {},
   "source": [
    "In the next cell, print the schema of your `nyctaxi_converted` DataFrame and make sure it compares to the results below. Field order is not important.\n",
    "\n",
    "```\n",
    "root\n",
    " |-- medallion: string (nullable = true)\n",
    " |-- hack_license: string (nullable = true)\n",
    " |-- vendor_id: string (nullable = true)\n",
    " |-- pickup_datetime: timestamp (nullable = true)\n",
    " |-- payment_type: string (nullable = true)\n",
    " |-- fare_amount: float (nullable = true)\n",
    " |-- surcharge: float (nullable = true)\n",
    " |-- mta_tax: float (nullable = true)\n",
    " |-- tip_amount: float (nullable = true)\n",
    " |-- tolls_amount: float (nullable = true)\n",
    " |-- total: float (nullable = true)\n",
    " |-- rate_code: string (nullable = true)\n",
    " |-- store_and_fwd_flag: string (nullable = true)\n",
    " |-- dropoff_datetime: timestamp (nullable = true)\n",
    " |-- passenger_count: integer (nullable = true)\n",
    " |-- trip_time_in_secs: float (nullable = true)\n",
    " |-- trip_distance: float (nullable = true)\n",
    " |-- pickup_longitude: float (nullable = true)\n",
    " |-- pickup_latitude: float (nullable = true)\n",
    " |-- dropoff_longitude: float (nullable = true)\n",
    " |-- dropoff_latitude: float (nullable = true)\n",
    " |-- pickup_hour: integer (nullable = true)\n",
    " |-- pickup_week: integer (nullable = true)\n",
    " |-- weekday: string (nullable = true)\n",
    " |-- tipped: integer (nullable = false)\n",
    " |-- time_bins: string (nullable = true)\n",
    "```"
   ]
  },
  {
   "cell_type": "code",
   "execution_count": 83,
   "metadata": {},
   "outputs": [
    {
     "name": "stdout",
     "output_type": "stream",
     "text": [
      "root\n",
      " |-- medallion: string (nullable = true)\n",
      " |-- hack_license: string (nullable = true)\n",
      " |-- vendor_id: string (nullable = true)\n",
      " |-- pickup_datetime: timestamp (nullable = true)\n",
      " |-- payment_type: string (nullable = true)\n",
      " |-- fare_amount: float (nullable = true)\n",
      " |-- surcharge: float (nullable = true)\n",
      " |-- mta_tax: float (nullable = true)\n",
      " |-- tip_amount: float (nullable = true)\n",
      " |-- tolls_amount: float (nullable = true)\n",
      " |-- total: float (nullable = true)\n",
      " |-- rate_code: string (nullable = true)\n",
      " |-- store_and_fwd_flag: string (nullable = true)\n",
      " |-- dropoff_datetime: timestamp (nullable = true)\n",
      " |-- passenger_count: integer (nullable = true)\n",
      " |-- trip_time_in_secs: float (nullable = true)\n",
      " |-- trip_distance: float (nullable = true)\n",
      " |-- pickup_longitude: float (nullable = true)\n",
      " |-- pickup_latitude: float (nullable = true)\n",
      " |-- dropoff_longitude: float (nullable = true)\n",
      " |-- dropoff_latitude: float (nullable = true)\n",
      " |-- pickup_hour: integer (nullable = true)\n",
      " |-- pickup_week: integer (nullable = true)\n",
      " |-- weekday: string (nullable = true)\n",
      " |-- tipped: integer (nullable = false)\n",
      " |-- time_bins: string (nullable = true)\n",
      "\n"
     ]
    }
   ],
   "source": [
    "nyctaxi_converted.printSchema()"
   ]
  },
  {
   "cell_type": "markdown",
   "metadata": {},
   "source": [
    "In the next cell, show the first 10 rows of `nyctaxi_converted` to see if your new fields are correct."
   ]
  },
  {
   "cell_type": "code",
   "execution_count": 84,
   "metadata": {},
   "outputs": [
    {
     "data": {
      "text/plain": [
       "[Row(medallion=u'00005007A9F30E289E760362F69E4EAD', hack_license=u'132A7AC13C8471488DC8D880EA793AE2', vendor_id=u'CMT', pickup_datetime=datetime.datetime(2013, 7, 30, 22, 50, 31), payment_type=u'CRD', fare_amount=10.5, surcharge=0.5, mta_tax=0.5, tip_amount=3.0, tolls_amount=0.0, total=14.5, rate_code=u'1', store_and_fwd_flag=u'N', dropoff_datetime=datetime.datetime(2013, 7, 30, 23, 1, 50), passenger_count=1, trip_time_in_secs=679.0, trip_distance=2.5, pickup_longitude=-73.98164367675781, pickup_latitude=40.75238800048828, dropoff_longitude=-73.98296356201172, dropoff_latitude=40.775760650634766, pickup_hour=22, pickup_week=31, weekday=u'Tuesday', tipped=1, time_bins=u'night'),\n",
       " Row(medallion=u'00005007A9F30E289E760362F69E4EAD', hack_license=u'16780B3E72BAA7A5C152C197919DCA0E', vendor_id=u'CMT', pickup_datetime=datetime.datetime(2013, 7, 16, 19, 22, 49), payment_type=u'CSH', fare_amount=2.5, surcharge=1.0, mta_tax=0.5, tip_amount=0.0, tolls_amount=0.0, total=4.0, rate_code=u'1', store_and_fwd_flag=u'N', dropoff_datetime=datetime.datetime(2013, 7, 16, 19, 40, 47), passenger_count=1, trip_time_in_secs=1078.0, trip_distance=0.0, pickup_longitude=-73.98587036132812, pickup_latitude=40.7598991394043, dropoff_longitude=-73.9854507446289, dropoff_latitude=40.747894287109375, pickup_hour=19, pickup_week=29, weekday=u'Tuesday', tipped=0, time_bins=u'pm_rush'),\n",
       " Row(medallion=u'00005007A9F30E289E760362F69E4EAD', hack_license=u'24C122A944FB8EE21D570C7067400D6F', vendor_id=u'CMT', pickup_datetime=datetime.datetime(2013, 10, 11, 11, 18, 25), payment_type=u'CRD', fare_amount=5.5, surcharge=0.0, mta_tax=0.5, tip_amount=1.0, tolls_amount=0.0, total=7.0, rate_code=u'1', store_and_fwd_flag=u'Y', dropoff_datetime=datetime.datetime(2013, 10, 11, 11, 23, 11), passenger_count=1, trip_time_in_secs=285.0, trip_distance=0.8999999761581421, pickup_longitude=-73.99700164794922, pickup_latitude=40.722450256347656, dropoff_longitude=-73.98611450195312, dropoff_latitude=40.7292594909668, pickup_hour=11, pickup_week=41, weekday=u'Friday', tipped=1, time_bins=u'afternoon'),\n",
       " Row(medallion=u'00005007A9F30E289E760362F69E4EAD', hack_license=u'24C122A944FB8EE21D570C7067400D6F', vendor_id=u'CMT', pickup_datetime=datetime.datetime(2013, 10, 21, 7, 45, 29), payment_type=u'CRD', fare_amount=7.5, surcharge=0.0, mta_tax=0.5, tip_amount=1.100000023841858, tolls_amount=0.0, total=9.100000381469727, rate_code=u'1', store_and_fwd_flag=u'N', dropoff_datetime=datetime.datetime(2013, 10, 21, 7, 52, 41), passenger_count=1, trip_time_in_secs=432.0, trip_distance=1.7000000476837158, pickup_longitude=-73.95808410644531, pickup_latitude=40.778934478759766, dropoff_longitude=-73.97547912597656, dropoff_latitude=40.760257720947266, pickup_hour=7, pickup_week=43, weekday=u'Monday', tipped=1, time_bins=u'am_rush'),\n",
       " Row(medallion=u'00005007A9F30E289E760362F69E4EAD', hack_license=u'24C122A944FB8EE21D570C7067400D6F', vendor_id=u'CMT', pickup_datetime=datetime.datetime(2013, 10, 21, 16, 23, 4), payment_type=u'CSH', fare_amount=5.5, surcharge=1.0, mta_tax=0.5, tip_amount=0.0, tolls_amount=0.0, total=7.0, rate_code=u'1', store_and_fwd_flag=u'N', dropoff_datetime=datetime.datetime(2013, 10, 21, 16, 28, 1), passenger_count=3, trip_time_in_secs=297.0, trip_distance=0.8999999761581421, pickup_longitude=-73.97212982177734, pickup_latitude=40.79381561279297, dropoff_longitude=-73.96275329589844, dropoff_latitude=40.804378509521484, pickup_hour=16, pickup_week=43, weekday=u'Monday', tipped=0, time_bins=u'pm_rush'),\n",
       " Row(medallion=u'00005007A9F30E289E760362F69E4EAD', hack_license=u'24C122A944FB8EE21D570C7067400D6F', vendor_id=u'CMT', pickup_datetime=datetime.datetime(2013, 10, 23, 6, 40, 22), payment_type=u'CRD', fare_amount=10.0, surcharge=0.0, mta_tax=0.5, tip_amount=2.0999999046325684, tolls_amount=0.0, total=12.600000381469727, rate_code=u'1', store_and_fwd_flag=u'N', dropoff_datetime=datetime.datetime(2013, 10, 23, 6, 48, 34), passenger_count=1, trip_time_in_secs=491.0, trip_distance=2.799999952316284, pickup_longitude=-73.97341918945312, pickup_latitude=40.784751892089844, dropoff_longitude=-73.98238372802734, dropoff_latitude=40.755123138427734, pickup_hour=6, pickup_week=43, weekday=u'Wednesday', tipped=1, time_bins=u'night'),\n",
       " Row(medallion=u'00005007A9F30E289E760362F69E4EAD', hack_license=u'24C122A944FB8EE21D570C7067400D6F', vendor_id=u'CMT', pickup_datetime=datetime.datetime(2013, 10, 30, 9, 52, 19), payment_type=u'CRD', fare_amount=6.0, surcharge=0.0, mta_tax=0.5, tip_amount=1.2999999523162842, tolls_amount=0.0, total=7.800000190734863, rate_code=u'1', store_and_fwd_flag=u'N', dropoff_datetime=datetime.datetime(2013, 10, 30, 9, 59, 8), passenger_count=1, trip_time_in_secs=409.0, trip_distance=0.699999988079071, pickup_longitude=-73.98036193847656, pickup_latitude=40.751548767089844, dropoff_longitude=-73.98551177978516, dropoff_latitude=40.74326705932617, pickup_hour=9, pickup_week=44, weekday=u'Wednesday', tipped=1, time_bins=u'am_rush'),\n",
       " Row(medallion=u'00005007A9F30E289E760362F69E4EAD', hack_license=u'24C122A944FB8EE21D570C7067400D6F', vendor_id=u'CMT', pickup_datetime=datetime.datetime(2013, 10, 30, 14, 32, 32), payment_type=u'CSH', fare_amount=7.5, surcharge=0.0, mta_tax=0.5, tip_amount=0.0, tolls_amount=0.0, total=8.0, rate_code=u'1', store_and_fwd_flag=u'N', dropoff_datetime=datetime.datetime(2013, 10, 30, 14, 41, 54), passenger_count=1, trip_time_in_secs=561.0, trip_distance=0.8999999761581421, pickup_longitude=-73.98616027832031, pickup_latitude=40.755645751953125, dropoff_longitude=-73.96923065185547, dropoff_latitude=40.76101303100586, pickup_hour=14, pickup_week=44, weekday=u'Wednesday', tipped=0, time_bins=u'afternoon'),\n",
       " Row(medallion=u'00005007A9F30E289E760362F69E4EAD', hack_license=u'24C122A944FB8EE21D570C7067400D6F', vendor_id=u'CMT', pickup_datetime=datetime.datetime(2013, 11, 7, 7, 40, 9), payment_type=u'CSH', fare_amount=2.5, surcharge=0.0, mta_tax=0.5, tip_amount=0.0, tolls_amount=0.0, total=3.0, rate_code=u'1', store_and_fwd_flag=u'N', dropoff_datetime=datetime.datetime(2013, 11, 7, 7, 45, 16), passenger_count=1, trip_time_in_secs=307.0, trip_distance=0.0, pickup_longitude=-73.9568862915039, pickup_latitude=40.77836990356445, dropoff_longitude=-73.97007751464844, dropoff_latitude=40.76448059082031, pickup_hour=7, pickup_week=45, weekday=u'Thursday', tipped=0, time_bins=u'am_rush'),\n",
       " Row(medallion=u'00005007A9F30E289E760362F69E4EAD', hack_license=u'24C122A944FB8EE21D570C7067400D6F', vendor_id=u'CMT', pickup_datetime=datetime.datetime(2013, 11, 7, 10, 26, 14), payment_type=u'CRD', fare_amount=8.0, surcharge=0.0, mta_tax=0.5, tip_amount=1.0, tolls_amount=0.0, total=9.5, rate_code=u'1', store_and_fwd_flag=u'N', dropoff_datetime=datetime.datetime(2013, 11, 7, 10, 37, 14), passenger_count=1, trip_time_in_secs=660.0, trip_distance=1.0, pickup_longitude=-74.00440979003906, pickup_latitude=40.752227783203125, dropoff_longitude=-73.99227142333984, dropoff_latitude=40.75503158569336, pickup_hour=10, pickup_week=45, weekday=u'Thursday', tipped=1, time_bins=u'am_rush')]"
      ]
     },
     "execution_count": 84,
     "metadata": {},
     "output_type": "execute_result"
    }
   ],
   "source": [
    "# ~ 12 seconds\n",
    "nyctaxi_converted.take(10)"
   ]
  },
  {
   "cell_type": "markdown",
   "metadata": {},
   "source": [
    "## Part 2 - Drop unused variables and filter data for clean trips (5 points)"
   ]
  },
  {
   "cell_type": "markdown",
   "metadata": {},
   "source": [
    "In the following cell, create a new DataFrame called `valid_trips` with the following structure. You are welcome to use DataFrame methods or SparkSQL for this.\n",
    "\n",
    "* Keep only these fields: time_bins, tipped, weekday, pickup_week, pickup_hour, trip_distance, trip_time_in_secs, passenger_count, rate_code, total, tip_amount, fare_amount, payment_type, vendor_id\n",
    "* Filter records on the following criteria:\n",
    "  * Passenger count is greater than 0 and less than 8\n",
    "  * Payment type is cash (CSH) or credit card (CRD)\n",
    "  * Tip amount is 0 or more, but less than 30\n",
    "  * Fare amount is between \\\\$1 or more, and less than \\\\$150\n",
    "  * Trip distance is less than 100 miles, but more than 0\n",
    "  * The time of the trip is 30 seconds or more, and less than 2 hours"
   ]
  },
  {
   "cell_type": "code",
   "execution_count": 135,
   "metadata": {},
   "outputs": [],
   "source": [
    "nyctaxi_converted.createOrReplaceTempView(\"nyctaxi_converted_tbl\")\n",
    "valid_trips = spark.sql(\"\"\"SELECT vendor_id, payment_type, fare_amount, tip_amount, total, rate_code, passenger_count, trip_time_in_secs, trip_distance, pickup_hour, pickup_week, weekday, tipped, time_bins\n",
    "                FROM nyctaxi_converted_tbl\n",
    "                WHERE passenger_count > 0 \n",
    "                AND passenger_count < 8\n",
    "                AND (payment_type == 'CSH' OR payment_type == 'CRD')\n",
    "                AND tip_amount >= 0\n",
    "                AND tip_amount < 30\n",
    "                AND (fare_amount >= 1 AND fare_amount < 150)\n",
    "                AND trip_distance < 100 AND trip_distance > 0\n",
    "                AND trip_time_in_secs < 7200 AND trip_time_in_secs >= 30\n",
    "                \"\"\")"
   ]
  },
  {
   "cell_type": "markdown",
   "metadata": {},
   "source": [
    "In the following cell, print the schema of the `valid_trips` DataFrame and compare to this:\n",
    "\n",
    "```\n",
    "root\n",
    " |-- vendor_id: string (nullable = true)\n",
    " |-- payment_type: string (nullable = true)\n",
    " |-- fare_amount: float (nullable = true)\n",
    " |-- tip_amount: float (nullable = true)\n",
    " |-- total: float (nullable = true)\n",
    " |-- rate_code: string (nullable = true)\n",
    " |-- passenger_count: integer (nullable = true)\n",
    " |-- trip_time_in_secs: float (nullable = true)\n",
    " |-- trip_distance: float (nullable = true)\n",
    " |-- pickup_hour: integer (nullable = true)\n",
    " |-- pickup_week: integer (nullable = true)\n",
    " |-- weekday: string (nullable = true)\n",
    " |-- tipped: integer (nullable = false)\n",
    " |-- time_bins: string (nullable = true)\n",
    "```"
   ]
  },
  {
   "cell_type": "code",
   "execution_count": 136,
   "metadata": {},
   "outputs": [
    {
     "name": "stdout",
     "output_type": "stream",
     "text": [
      "root\n",
      " |-- vendor_id: string (nullable = true)\n",
      " |-- payment_type: string (nullable = true)\n",
      " |-- fare_amount: float (nullable = true)\n",
      " |-- tip_amount: float (nullable = true)\n",
      " |-- total: float (nullable = true)\n",
      " |-- rate_code: string (nullable = true)\n",
      " |-- passenger_count: integer (nullable = true)\n",
      " |-- trip_time_in_secs: float (nullable = true)\n",
      " |-- trip_distance: float (nullable = true)\n",
      " |-- pickup_hour: integer (nullable = true)\n",
      " |-- pickup_week: integer (nullable = true)\n",
      " |-- weekday: string (nullable = true)\n",
      " |-- tipped: integer (nullable = false)\n",
      " |-- time_bins: string (nullable = true)\n",
      "\n"
     ]
    }
   ],
   "source": [
    "valid_trips.printSchema()"
   ]
  },
  {
   "cell_type": "markdown",
   "metadata": {},
   "source": [
    "In the following cell, count the number of records for `valid_trips`."
   ]
  },
  {
   "cell_type": "code",
   "execution_count": 137,
   "metadata": {},
   "outputs": [
    {
     "data": {
      "text/plain": [
       "171182914"
      ]
     },
     "execution_count": 137,
     "metadata": {},
     "output_type": "execute_result"
    }
   ],
   "source": [
    "# ~ 48 seconds\n",
    "valid_trips.count()"
   ]
  },
  {
   "cell_type": "markdown",
   "metadata": {},
   "source": [
    "In the following cell, calculate the number of records that were dropped with the filter applied."
   ]
  },
  {
   "cell_type": "code",
   "execution_count": 138,
   "metadata": {},
   "outputs": [
    {
     "data": {
      "text/plain": [
       "2002177"
      ]
     },
     "execution_count": 138,
     "metadata": {},
     "output_type": "execute_result"
    }
   ],
   "source": [
    "nyctaxi.count() - valid_trips.count()"
   ]
  },
  {
   "cell_type": "markdown",
   "metadata": {},
   "source": [
    "## Part 3 - Feature transformation and data preparation for modeling (7 points)\n",
    "\n",
    "In this section, you will convert the categorical variables `vendor_id`, `rate_code`, `payment_type`, and `time_bins` to features that can be used in the model. You need to use the `StringIndexer` function on each of the categorical variables to convert the raw text into indices, and then for each set of indices you need to use the `OneHotEncoder` function to convert the index to a vector of dummy variables.\n",
    "\n",
    "In the next 8 cells, create four `StringIndexer` objects named `si_1` through `si_4`, and four `OneHotEncoder` objects named `en_1` through `en_4` for each of the categorical variables. Each `en_` must use as input, the output from the `si_`. The four output columns for `en_` must be named `vendor_vec`, `rate_vec`, `payment_vec`, `time_bins_vec`.\n",
    "\n",
    "Make sure that you use the parameter `dropLast=False` for `OneHotEncoder`, and that the `en_` and `si_` of the same number are used on the same variable.\n",
    "\n",
    "We talked about transformers and estimators in class. Refer to the book for additional information. As a brief summary:\n",
    "* Transformers: take data in, and produce new data\n",
    "* Estimators: take data in and produce a transformer"
   ]
  },
  {
   "cell_type": "code",
   "execution_count": 139,
   "metadata": {},
   "outputs": [],
   "source": [
    "si_1 = StringIndexer(inputCol=\"vendor_id\", outputCol = \"vendorIndex\")"
   ]
  },
  {
   "cell_type": "code",
   "execution_count": 140,
   "metadata": {},
   "outputs": [],
   "source": [
    "en_1 = OneHotEncoder(inputCol=\"vendorIndex\", outputCol = \"vendor_vec\", dropLast=False)"
   ]
  },
  {
   "cell_type": "code",
   "execution_count": 141,
   "metadata": {},
   "outputs": [],
   "source": [
    "si_2 = StringIndexer(inputCol=\"rate_code\", outputCol = \"rateIndex\")"
   ]
  },
  {
   "cell_type": "code",
   "execution_count": 142,
   "metadata": {},
   "outputs": [],
   "source": [
    "en_2 = OneHotEncoder(inputCol=\"rateIndex\", outputCol = \"rate_vec\", dropLast=False)"
   ]
  },
  {
   "cell_type": "code",
   "execution_count": 143,
   "metadata": {},
   "outputs": [],
   "source": [
    "si_3 = StringIndexer(inputCol=\"payment_type\", outputCol = \"payment_typeIndex\")"
   ]
  },
  {
   "cell_type": "code",
   "execution_count": 144,
   "metadata": {},
   "outputs": [],
   "source": [
    "en_3 = OneHotEncoder(inputCol=\"payment_typeIndex\", outputCol = \"payment_vec\", dropLast=False)"
   ]
  },
  {
   "cell_type": "code",
   "execution_count": 145,
   "metadata": {},
   "outputs": [],
   "source": [
    "si_4 = StringIndexer(inputCol=\"time_bins\", outputCol = \"binsIndex\")"
   ]
  },
  {
   "cell_type": "code",
   "execution_count": 146,
   "metadata": {},
   "outputs": [],
   "source": [
    "en_4 = OneHotEncoder(inputCol=\"binsIndex\", outputCol = \"time_bins_vec\", dropLast=False)"
   ]
  },
  {
   "cell_type": "markdown",
   "metadata": {},
   "source": [
    "In the following cell, build a pipeline called `encoded_final` where you will run the stages in the following order: si_1, en_1, si_2, en_2, etc. You need to run a fit method and a transform method on the `vaild_trips` DataFrame in order to get the desired results."
   ]
  },
  {
   "cell_type": "code",
   "execution_count": 147,
   "metadata": {},
   "outputs": [],
   "source": [
    "# ~ 8 min\n",
    "encoded_final0  =  Pipeline(stages=[si_1, en_1, si_2, en_2,si_3, en_3, si_4, en_4]).fit(valid_trips)\n",
    "encoded_final = encoded_final0.transform(valid_trips)"
   ]
  },
  {
   "cell_type": "markdown",
   "metadata": {},
   "source": [
    "In the following cell, show the first 10 rows of `encoded_final`."
   ]
  },
  {
   "cell_type": "code",
   "execution_count": 148,
   "metadata": {},
   "outputs": [
    {
     "name": "stdout",
     "output_type": "stream",
     "text": [
      "+---------+------------+-----------+----------+-----+---------+---------------+-----------------+-------------+-----------+-----------+---------+------+---------+-----------+-------------+---------+--------------+-----------------+-------------+---------+-------------+\n",
      "|vendor_id|payment_type|fare_amount|tip_amount|total|rate_code|passenger_count|trip_time_in_secs|trip_distance|pickup_hour|pickup_week|  weekday|tipped|time_bins|vendorIndex|   vendor_vec|rateIndex|      rate_vec|payment_typeIndex|  payment_vec|binsIndex|time_bins_vec|\n",
      "+---------+------------+-----------+----------+-----+---------+---------------+-----------------+-------------+-----------+-----------+---------+------+---------+-----------+-------------+---------+--------------+-----------------+-------------+---------+-------------+\n",
      "|      CMT|         CRD|       10.5|       3.0| 14.5|        1|              1|            679.0|          2.5|         22|         31|  Tuesday|     1|    night|        1.0|(2,[1],[1.0])|      0.0|(20,[0],[1.0])|              0.0|(2,[0],[1.0])|      0.0|(4,[0],[1.0])|\n",
      "|      CMT|         CRD|        5.5|       1.0|  7.0|        1|              1|            285.0|          0.9|         11|         41|   Friday|     1|afternoon|        1.0|(2,[1],[1.0])|      0.0|(20,[0],[1.0])|              0.0|(2,[0],[1.0])|      1.0|(4,[1],[1.0])|\n",
      "|      CMT|         CRD|        7.5|       1.1|  9.1|        1|              1|            432.0|          1.7|          7|         43|   Monday|     1|  am_rush|        1.0|(2,[1],[1.0])|      0.0|(20,[0],[1.0])|              0.0|(2,[0],[1.0])|      3.0|(4,[3],[1.0])|\n",
      "|      CMT|         CSH|        5.5|       0.0|  7.0|        1|              3|            297.0|          0.9|         16|         43|   Monday|     0|  pm_rush|        1.0|(2,[1],[1.0])|      0.0|(20,[0],[1.0])|              1.0|(2,[1],[1.0])|      2.0|(4,[2],[1.0])|\n",
      "|      CMT|         CRD|       10.0|       2.1| 12.6|        1|              1|            491.0|          2.8|          6|         43|Wednesday|     1|    night|        1.0|(2,[1],[1.0])|      0.0|(20,[0],[1.0])|              0.0|(2,[0],[1.0])|      0.0|(4,[0],[1.0])|\n",
      "|      CMT|         CRD|        6.0|       1.3|  7.8|        1|              1|            409.0|          0.7|          9|         44|Wednesday|     1|  am_rush|        1.0|(2,[1],[1.0])|      0.0|(20,[0],[1.0])|              0.0|(2,[0],[1.0])|      3.0|(4,[3],[1.0])|\n",
      "|      CMT|         CSH|        7.5|       0.0|  8.0|        1|              1|            561.0|          0.9|         14|         44|Wednesday|     0|afternoon|        1.0|(2,[1],[1.0])|      0.0|(20,[0],[1.0])|              1.0|(2,[1],[1.0])|      1.0|(4,[1],[1.0])|\n",
      "|      CMT|         CRD|        8.0|       1.0|  9.5|        1|              1|            660.0|          1.0|         10|         45| Thursday|     1|  am_rush|        1.0|(2,[1],[1.0])|      0.0|(20,[0],[1.0])|              0.0|(2,[0],[1.0])|      3.0|(4,[3],[1.0])|\n",
      "|      CMT|         CRD|        4.5|       1.0|  6.0|        1|              1|            248.0|          0.6|         14|         50| Thursday|     1|afternoon|        1.0|(2,[1],[1.0])|      0.0|(20,[0],[1.0])|              0.0|(2,[0],[1.0])|      1.0|(4,[1],[1.0])|\n",
      "|      CMT|         CSH|       11.0|       0.0| 11.5|        1|              2|            716.0|          2.4|          9|         51|Wednesday|     0|  am_rush|        1.0|(2,[1],[1.0])|      0.0|(20,[0],[1.0])|              1.0|(2,[1],[1.0])|      3.0|(4,[3],[1.0])|\n",
      "|      CMT|         CRD|        7.5|      1.08| 9.08|        1|              1|            579.0|          1.1|         10|         52|   Monday|     1|  am_rush|        1.0|(2,[1],[1.0])|      0.0|(20,[0],[1.0])|              0.0|(2,[0],[1.0])|      3.0|(4,[3],[1.0])|\n",
      "|      CMT|         CRD|       33.5|      8.75|43.75|        1|              1|           2561.0|          9.3|         16|          4|  Tuesday|     1|  pm_rush|        1.0|(2,[1],[1.0])|      0.0|(20,[0],[1.0])|              0.0|(2,[0],[1.0])|      2.0|(4,[2],[1.0])|\n",
      "|      CMT|         CSH|        3.5|       0.0|  4.5|        1|              1|            120.0|          0.4|         20|         35|  Tuesday|     0|    night|        1.0|(2,[1],[1.0])|      0.0|(20,[0],[1.0])|              1.0|(2,[1],[1.0])|      0.0|(4,[0],[1.0])|\n",
      "|      CMT|         CRD|        5.5|       1.8|  7.8|        1|              1|            303.0|          0.9|          8|          1|   Friday|     1|  am_rush|        1.0|(2,[1],[1.0])|      0.0|(20,[0],[1.0])|              0.0|(2,[0],[1.0])|      3.0|(4,[3],[1.0])|\n",
      "|      CMT|         CSH|       71.0|       0.0| 81.7|        3|              1|           2528.0|         18.1|         14|          1|   Friday|     0|afternoon|        1.0|(2,[1],[1.0])|      2.0|(20,[2],[1.0])|              1.0|(2,[1],[1.0])|      1.0|(4,[1],[1.0])|\n",
      "|      CMT|         CSH|       15.0|       0.0| 16.5|        1|              2|           1122.0|          3.4|         16|          4| Thursday|     0|  pm_rush|        1.0|(2,[1],[1.0])|      0.0|(20,[0],[1.0])|              1.0|(2,[1],[1.0])|      2.0|(4,[2],[1.0])|\n",
      "|      CMT|         CSH|       22.0|       0.0| 22.5|        1|              1|           1792.0|          4.6|          9|          6| Thursday|     0|  am_rush|        1.0|(2,[1],[1.0])|      0.0|(20,[0],[1.0])|              1.0|(2,[1],[1.0])|      3.0|(4,[3],[1.0])|\n",
      "|      CMT|         CRD|        8.0|       0.0|  9.5|        1|              1|            555.0|          1.3|         16|          8|   Friday|     0|  pm_rush|        1.0|(2,[1],[1.0])|      0.0|(20,[0],[1.0])|              0.0|(2,[0],[1.0])|      2.0|(4,[2],[1.0])|\n",
      "|      CMT|         CRD|       10.0|       1.5| 12.0|        1|              1|            715.0|          2.0|          6|          9| Thursday|     1|    night|        1.0|(2,[1],[1.0])|      0.0|(20,[0],[1.0])|              0.0|(2,[0],[1.0])|      0.0|(4,[0],[1.0])|\n",
      "|      CMT|         CSH|        7.0|       0.0|  7.5|        1|              1|            521.0|          0.7|         12|          9| Thursday|     0|afternoon|        1.0|(2,[1],[1.0])|      0.0|(20,[0],[1.0])|              1.0|(2,[1],[1.0])|      1.0|(4,[1],[1.0])|\n",
      "+---------+------------+-----------+----------+-----+---------+---------------+-----------------+-------------+-----------+-----------+---------+------+---------+-----------+-------------+---------+--------------+-----------------+-------------+---------+-------------+\n",
      "only showing top 20 rows\n",
      "\n"
     ]
    }
   ],
   "source": [
    "# ~ 30 sec\n",
    "encoded_final.show()"
   ]
  },
  {
   "cell_type": "markdown",
   "metadata": {},
   "source": [
    "In the following cell, split `encoded_final` into `train` and `test` using 90% train, 10% test and a seed of 12345. **You must use the specified seed for reproducibility.**"
   ]
  },
  {
   "cell_type": "code",
   "execution_count": 149,
   "metadata": {},
   "outputs": [],
   "source": [
    "splitted_data = encoded_final.randomSplit([0.9, 0.1], 12345)\n",
    "train = splitted_data[0]\n",
    "test = splitted_data[1]"
   ]
  },
  {
   "cell_type": "markdown",
   "metadata": {},
   "source": [
    "In the next cell, cache the `train` DataFrame."
   ]
  },
  {
   "cell_type": "code",
   "execution_count": 150,
   "metadata": {},
   "outputs": [
    {
     "data": {
      "text/plain": [
       "DataFrame[vendor_id: string, payment_type: string, fare_amount: float, tip_amount: float, total: float, rate_code: string, passenger_count: int, trip_time_in_secs: float, trip_distance: float, pickup_hour: int, pickup_week: int, weekday: string, tipped: int, time_bins: string, vendorIndex: double, vendor_vec: vector, rateIndex: double, rate_vec: vector, payment_typeIndex: double, payment_vec: vector, binsIndex: double, time_bins_vec: vector]"
      ]
     },
     "execution_count": 150,
     "metadata": {},
     "output_type": "execute_result"
    }
   ],
   "source": [
    "train.cache()"
   ]
  },
  {
   "cell_type": "markdown",
   "metadata": {},
   "source": [
    "In the next cell, cache the `test` DataFrame."
   ]
  },
  {
   "cell_type": "code",
   "execution_count": 151,
   "metadata": {},
   "outputs": [
    {
     "data": {
      "text/plain": [
       "DataFrame[vendor_id: string, payment_type: string, fare_amount: float, tip_amount: float, total: float, rate_code: string, passenger_count: int, trip_time_in_secs: float, trip_distance: float, pickup_hour: int, pickup_week: int, weekday: string, tipped: int, time_bins: string, vendorIndex: double, vendor_vec: vector, rateIndex: double, rate_vec: vector, payment_typeIndex: double, payment_vec: vector, binsIndex: double, time_bins_vec: vector]"
      ]
     },
     "execution_count": 151,
     "metadata": {},
     "output_type": "execute_result"
    }
   ],
   "source": [
    "test.cache()"
   ]
  },
  {
   "cell_type": "markdown",
   "metadata": {},
   "source": [
    "Count the number of records in the `train` DataFrame."
   ]
  },
  {
   "cell_type": "code",
   "execution_count": 152,
   "metadata": {},
   "outputs": [
    {
     "data": {
      "text/plain": [
       "154064279"
      ]
     },
     "execution_count": 152,
     "metadata": {},
     "output_type": "execute_result"
    }
   ],
   "source": [
    "# ~ 10 min - this takes time because you are actually loading the train dataset into memory as you count. \n",
    "train.count()"
   ]
  },
  {
   "cell_type": "markdown",
   "metadata": {},
   "source": [
    "## Part 4 - Build a Logistic Regression Model to predict tipping. (3 points)"
   ]
  },
  {
   "cell_type": "markdown",
   "metadata": {
    "collapsed": true
   },
   "source": [
    "In this section, you will train a Logistic Regression model to predict wether or not there was a tip for each ride using the training data created in the previous section. You will build pipelines using both transformers and estimators. "
   ]
  },
  {
   "cell_type": "markdown",
   "metadata": {},
   "source": [
    "In the next cell, create a `LogisticRegression` estimator called `log_reg` with the following parameters: `maxIter = 10, regParam = 0.3, eslaticNetParam = 0.8`."
   ]
  },
  {
   "cell_type": "code",
   "execution_count": 156,
   "metadata": {},
   "outputs": [],
   "source": [
    "log_reg = LogisticRegression(maxIter = 10, regParam = 0.3, elasticNetParam = 0.8)"
   ]
  },
  {
   "cell_type": "markdown",
   "metadata": {},
   "source": [
    "The Logistic Regression model you will be fitting is predicting `tipped` as a function of:\n",
    "* Pickup hour\n",
    "* Passenger count\n",
    "* Trip time\n",
    "* Trip distance\n",
    "* Fare amount\n",
    "* Vendor id\n",
    "* Payment type\n",
    "* Rate code\n",
    "* Time bins\n",
    "\n",
    "Remember, you can't use the raw categorical data, you need to use something else for the categorical variables.\n",
    "\n",
    "In the next cell, create an object called `class_formula` and build a formula for the regression based on the previous instructions.\n"
   ]
  },
  {
   "cell_type": "code",
   "execution_count": 161,
   "metadata": {},
   "outputs": [],
   "source": [
    "from pyspark.ml.feature import RFormula\n",
    "class_formula = RFormula(formula=\"tipped ~ pickup_hour+passenger_count+trip_time_in_secs+trip_distance+fare_amount+vendor_vec+payment_vec+rate_vec+time_bins_vec\")"
   ]
  },
  {
   "cell_type": "markdown",
   "metadata": {},
   "source": [
    "In the next cell, create a PipelineModel object called model, with the stages of `class_formula` and `log_reg`, in that order. Run the fit method on the `train` DataFrame. This creates a transformer. "
   ]
  },
  {
   "cell_type": "code",
   "execution_count": 163,
   "metadata": {},
   "outputs": [],
   "source": [
    "model = Pipeline(stages=[class_formula, log_reg]).fit(train)"
   ]
  },
  {
   "cell_type": "markdown",
   "metadata": {},
   "source": [
    "In the next cell, create a `predictions` DataFrame by taking the model produced in the previous cell and running the `transform` method on the `test` data."
   ]
  },
  {
   "cell_type": "code",
   "execution_count": 165,
   "metadata": {},
   "outputs": [
    {
     "name": "stdout",
     "output_type": "stream",
     "text": [
      "root\n",
      " |-- vendor_id: string (nullable = true)\n",
      " |-- payment_type: string (nullable = true)\n",
      " |-- fare_amount: float (nullable = true)\n",
      " |-- tip_amount: float (nullable = true)\n",
      " |-- total: float (nullable = true)\n",
      " |-- rate_code: string (nullable = true)\n",
      " |-- passenger_count: integer (nullable = true)\n",
      " |-- trip_time_in_secs: float (nullable = true)\n",
      " |-- trip_distance: float (nullable = true)\n",
      " |-- pickup_hour: integer (nullable = true)\n",
      " |-- pickup_week: integer (nullable = true)\n",
      " |-- weekday: string (nullable = true)\n",
      " |-- tipped: integer (nullable = false)\n",
      " |-- time_bins: string (nullable = true)\n",
      " |-- vendorIndex: double (nullable = true)\n",
      " |-- vendor_vec: vector (nullable = true)\n",
      " |-- rateIndex: double (nullable = true)\n",
      " |-- rate_vec: vector (nullable = true)\n",
      " |-- payment_typeIndex: double (nullable = true)\n",
      " |-- payment_vec: vector (nullable = true)\n",
      " |-- binsIndex: double (nullable = true)\n",
      " |-- time_bins_vec: vector (nullable = true)\n",
      " |-- features: vector (nullable = true)\n",
      " |-- label: double (nullable = false)\n",
      " |-- rawPrediction: vector (nullable = true)\n",
      " |-- probability: vector (nullable = true)\n",
      " |-- prediction: double (nullable = true)\n",
      "\n"
     ]
    }
   ],
   "source": [
    "predictions = model.transform(test)\n",
    "predictions.printSchema()"
   ]
  },
  {
   "cell_type": "markdown",
   "metadata": {},
   "source": [
    "In the next cell, create an object called `predictions_and_labels` which takes the `label` and `prediction` columns from the `predictions` DataFrame and converts it to an RDD."
   ]
  },
  {
   "cell_type": "code",
   "execution_count": 168,
   "metadata": {},
   "outputs": [
    {
     "data": {
      "text/plain": [
       "[Row(label=0.0, prediction=1.0),\n",
       " Row(label=0.0, prediction=1.0),\n",
       " Row(label=1.0, prediction=1.0),\n",
       " Row(label=1.0, prediction=1.0),\n",
       " Row(label=1.0, prediction=1.0)]"
      ]
     },
     "execution_count": 168,
     "metadata": {},
     "output_type": "execute_result"
    }
   ],
   "source": [
    "predictions_and_labels = predictions[[\"label\",\"prediction\"]].rdd\n",
    "predictions_and_labels.take(5)"
   ]
  },
  {
   "cell_type": "markdown",
   "metadata": {},
   "source": [
    "In the next cell, create an evaluator called metrics, and use the `BinaryClassificationMetrics` evaluator on the `predictions_and_labels` object."
   ]
  },
  {
   "cell_type": "code",
   "execution_count": 169,
   "metadata": {},
   "outputs": [],
   "source": [
    "metrics = BinaryClassificationMetrics(predictions_and_labels)"
   ]
  },
  {
   "cell_type": "markdown",
   "metadata": {},
   "source": [
    "In this last step, the code is there for you to run. The next cell calculates the Area Under the Curve for the ROC curve generated by the model."
   ]
  },
  {
   "cell_type": "code",
   "execution_count": 170,
   "metadata": {},
   "outputs": [
    {
     "name": "stdout",
     "output_type": "stream",
     "text": [
      "Area under ROC = 0.985008679066\n"
     ]
    }
   ],
   "source": [
    "# ~13 min\n",
    "print(\"Area under ROC = %s\" % metrics.areaUnderROC)"
   ]
  },
  {
   "cell_type": "markdown",
   "metadata": {},
   "source": [
    "What do you think of the result of the Area under ROC?"
   ]
  },
  {
   "cell_type": "markdown",
   "metadata": {},
   "source": [
    "A: From the accuracy score we can see that, the model performs really well. The area under the curve(AUC) is close to 1. The shape of the ROC curve will hover around the upper-left corner of the coordinate. "
   ]
  },
  {
   "cell_type": "markdown",
   "metadata": {},
   "source": [
    "### Extra Credit (5 points)\n",
    "\n",
    "For extra credit, take the `label` and `probability` columns from the `predictions` DataFrame and create a Pandas DataFrame (local to the master node), and plot a ROC curve."
   ]
  },
  {
   "cell_type": "markdown",
   "metadata": {},
   "source": [
    "In the following cell, make a local Pandas DataFrame from `predictions`. **Hint:** you may want to randomly sample about 20% of the results, not use the entire `predictions`. "
   ]
  },
  {
   "cell_type": "code",
   "execution_count": null,
   "metadata": {},
   "outputs": [],
   "source": [
    "import pandas"
   ]
  },
  {
   "cell_type": "markdown",
   "metadata": {},
   "source": [
    "In the following cell, use `matplotlib` and `scikit-learn` to plot the ROC curve."
   ]
  },
  {
   "cell_type": "code",
   "execution_count": null,
   "metadata": {},
   "outputs": [],
   "source": []
  },
  {
   "cell_type": "markdown",
   "metadata": {},
   "source": [
    "## (For Reference) Load a saved pipeline model and evaluate it on a data set\n",
    "\n",
    "If you did save a model as suggested in the beginning of the workbook, you can load it again."
   ]
  },
  {
   "cell_type": "code",
   "execution_count": null,
   "metadata": {},
   "outputs": [],
   "source": [
    "from pyspark.ml import PipelineModel\n",
    "\n",
    "saved_model = PipelineModel.load(\"s3://[[your-s3-bucket]]/model_location/\")\n",
    "test = spark.read.parquet(\"s3://[[your-s3-bucket]]/data_location/\")\n",
    "\n",
    "predictions = saved_model.transform(test)\n",
    "prediction_and_labels = predictions.select(\"label\",\"prediction\").rdd\n",
    "\n",
    "metrics = BinaryClassificationMetrics(prediction_and_labels)\n",
    "print(\"Area under ROC = %s\" % metrics.areaUnderROC)"
   ]
  }
 ],
 "metadata": {
  "anaconda-cloud": {},
  "celltoolbar": "Raw Cell Format",
  "kernelspec": {
   "display_name": "Python 2",
   "language": "python",
   "name": "python2"
  },
  "language_info": {
   "codemirror_mode": {
    "name": "ipython",
    "version": 2
   },
   "file_extension": ".py",
   "mimetype": "text/x-python",
   "name": "python",
   "nbconvert_exporter": "python",
   "pygments_lexer": "ipython2",
   "version": "2.7.13"
  }
 },
 "nbformat": 4,
 "nbformat_minor": 1
}
