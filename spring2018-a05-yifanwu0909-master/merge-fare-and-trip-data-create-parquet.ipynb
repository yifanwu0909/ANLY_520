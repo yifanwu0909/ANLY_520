{
 "cells": [
  {
   "cell_type": "code",
   "execution_count": 1,
   "metadata": {},
   "outputs": [],
   "source": [
    "data = spark.read.option(\"header\", \"true\")\\\n",
    "  .csv(\"s3://bigdatateaching/nyctaxi-2013/data/\")"
   ]
  },
  {
   "cell_type": "code",
   "execution_count": 2,
   "metadata": {},
   "outputs": [],
   "source": [
    "fare = spark.read.option(\"header\", \"true\")\\\n",
    "  .csv(\"s3://bigdatateaching/nyctaxi-2013/fare/\")"
   ]
  },
  {
   "cell_type": "code",
   "execution_count": 3,
   "metadata": {},
   "outputs": [
    {
     "data": {
      "text/plain": [
       "DataFrame[summary: string, medallion: string, hack_license: string, vendor_id: string, rate_code: string, store_and_fwd_flag: string, pickup_datetime: string, dropoff_datetime: string, passenger_count: string, trip_time_in_secs: string, trip_distance: string, pickup_longitude: string, pickup_latitude: string, dropoff_longitude: string, dropoff_latitude: string]"
      ]
     },
     "execution_count": 3,
     "metadata": {},
     "output_type": "execute_result"
    }
   ],
   "source": [
    "data.describe()"
   ]
  },
  {
   "cell_type": "code",
   "execution_count": 11,
   "metadata": {},
   "outputs": [
    {
     "data": {
      "text/plain": [
       "DataFrame[summary: string, medallion: string,  hack_license: string,  vendor_id: string,  pickup_datetime: string,  payment_type: string,  fare_amount: string,  surcharge: string,  mta_tax: string,  tip_amount: string,  tolls_amount: string,  total_amount: string]"
      ]
     },
     "execution_count": 11,
     "metadata": {},
     "output_type": "execute_result"
    }
   ],
   "source": [
    "fare.describe()"
   ]
  },
  {
   "cell_type": "code",
   "execution_count": 9,
   "metadata": {},
   "outputs": [
    {
     "name": "stdout",
     "output_type": "stream",
     "text": [
      "+--------------------+--------------------+---------+---------+------------------+-------------------+-------------------+---------------+-----------------+-------------+----------------+---------------+-----------------+----------------+\n",
      "|           medallion|        hack_license|vendor_id|rate_code|store_and_fwd_flag|    pickup_datetime|   dropoff_datetime|passenger_count|trip_time_in_secs|trip_distance|pickup_longitude|pickup_latitude|dropoff_longitude|dropoff_latitude|\n",
      "+--------------------+--------------------+---------+---------+------------------+-------------------+-------------------+---------------+-----------------+-------------+----------------+---------------+-----------------+----------------+\n",
      "|89D227B655E5C82AE...|BA96DE419E711691B...|      CMT|        1|                 N|2013-01-01 15:11:48|2013-01-01 15:18:10|              4|              382|         1.00|      -73.978165|      40.757977|       -73.989838|       40.751171|\n",
      "|0BD7C8F5BA12B88E0...|9FD8F69F0804BDB55...|      CMT|        1|                 N|2013-01-06 00:18:35|2013-01-06 00:22:54|              1|              259|         1.50|      -74.006683|      40.731781|       -73.994499|        40.75066|\n",
      "|0BD7C8F5BA12B88E0...|9FD8F69F0804BDB55...|      CMT|        1|                 N|2013-01-05 18:49:41|2013-01-05 18:54:23|              1|              282|         1.10|      -74.004707|       40.73777|       -74.009834|       40.726002|\n",
      "|DFD2202EE08F7A8DC...|51EE87E3205C985EF...|      CMT|        1|                 N|2013-01-07 23:54:15|2013-01-07 23:58:20|              2|              244|          .70|      -73.974602|      40.759945|       -73.984734|       40.759388|\n",
      "|DFD2202EE08F7A8DC...|51EE87E3205C985EF...|      CMT|        1|                 N|2013-01-07 23:25:03|2013-01-07 23:34:24|              1|              560|         2.10|       -73.97625|      40.748528|       -74.002586|       40.747868|\n",
      "|20D9ECB2CA0767CF7...|598CCE5B9C1918568...|      CMT|        1|                 N|2013-01-07 15:27:48|2013-01-07 15:38:37|              1|              648|         1.70|      -73.966743|      40.764252|       -73.983322|       40.743763|\n",
      "|496644932DF393260...|513189AD756FF14FE...|      CMT|        1|                 N|2013-01-08 11:01:15|2013-01-08 11:08:14|              1|              418|          .80|      -73.995804|      40.743977|       -74.007416|       40.744343|\n",
      "|0B57B9633A2FECD3D...|CCD4367B417ED6634...|      CMT|        1|                 N|2013-01-07 12:39:18|2013-01-07 13:10:56|              3|             1898|        10.70|      -73.989937|      40.756775|        -73.86525|        40.77063|\n",
      "|2C0E91FF20A856C89...|1DA2F6543A62B8ED9...|      CMT|        1|                 N|2013-01-07 18:15:47|2013-01-07 18:20:47|              1|              299|          .80|      -73.980072|      40.743137|       -73.982712|       40.735336|\n",
      "|2D4B95E2FA7B2E851...|CD2F522EEE1FF5F5A...|      CMT|        1|                 N|2013-01-07 15:33:28|2013-01-07 15:49:26|              2|              957|         2.50|      -73.977936|      40.786983|       -73.952919|        40.80637|\n",
      "+--------------------+--------------------+---------+---------+------------------+-------------------+-------------------+---------------+-----------------+-------------+----------------+---------------+-----------------+----------------+\n",
      "only showing top 10 rows\n",
      "\n"
     ]
    }
   ],
   "source": [
    "data.show(10)"
   ]
  },
  {
   "cell_type": "code",
   "execution_count": 22,
   "metadata": {},
   "outputs": [
    {
     "name": "stdout",
     "output_type": "stream",
     "text": [
      "root\n",
      " |-- medallion: string (nullable = true)\n",
      " |--  hack_license: string (nullable = true)\n",
      " |--  vendor_id: string (nullable = true)\n",
      " |--  pickup_datetime: string (nullable = true)\n",
      " |--  payment_type: string (nullable = true)\n",
      " |--  fare_amount: string (nullable = true)\n",
      " |--  surcharge: string (nullable = true)\n",
      " |--  mta_tax: string (nullable = true)\n",
      " |--  tip_amount: string (nullable = true)\n",
      " |--  tolls_amount: string (nullable = true)\n",
      " |--  total_amount: string (nullable = true)\n",
      "\n"
     ]
    }
   ],
   "source": [
    "fare.printSchema()"
   ]
  },
  {
   "cell_type": "code",
   "execution_count": 23,
   "metadata": {},
   "outputs": [
    {
     "name": "stdout",
     "output_type": "stream",
     "text": [
      "root\n",
      " |-- medallion: string (nullable = true)\n",
      " |-- hack_license: string (nullable = true)\n",
      " |-- vendor_id: string (nullable = true)\n",
      " |-- rate_code: string (nullable = true)\n",
      " |-- store_and_fwd_flag: string (nullable = true)\n",
      " |-- pickup_datetime: string (nullable = true)\n",
      " |-- dropoff_datetime: string (nullable = true)\n",
      " |-- passenger_count: string (nullable = true)\n",
      " |-- trip_time_in_secs: string (nullable = true)\n",
      " |-- trip_distance: string (nullable = true)\n",
      " |-- pickup_longitude: string (nullable = true)\n",
      " |-- pickup_latitude: string (nullable = true)\n",
      " |-- dropoff_longitude: string (nullable = true)\n",
      " |-- dropoff_latitude: string (nullable = true)\n",
      "\n"
     ]
    }
   ],
   "source": [
    "data.printSchema()"
   ]
  },
  {
   "cell_type": "code",
   "execution_count": 10,
   "metadata": {},
   "outputs": [
    {
     "name": "stdout",
     "output_type": "stream",
     "text": [
      "+--------------------+--------------------+----------+-------------------+-------------+------------+----------+--------+-----------+-------------+-------------+\n",
      "|           medallion|        hack_license| vendor_id|    pickup_datetime| payment_type| fare_amount| surcharge| mta_tax| tip_amount| tolls_amount| total_amount|\n",
      "+--------------------+--------------------+----------+-------------------+-------------+------------+----------+--------+-----------+-------------+-------------+\n",
      "|89D227B655E5C82AE...|BA96DE419E711691B...|       CMT|2013-01-01 15:11:48|          CSH|         6.5|         0|     0.5|          0|            0|            7|\n",
      "|0BD7C8F5BA12B88E0...|9FD8F69F0804BDB55...|       CMT|2013-01-06 00:18:35|          CSH|           6|       0.5|     0.5|          0|            0|            7|\n",
      "|0BD7C8F5BA12B88E0...|9FD8F69F0804BDB55...|       CMT|2013-01-05 18:49:41|          CSH|         5.5|         1|     0.5|          0|            0|            7|\n",
      "|DFD2202EE08F7A8DC...|51EE87E3205C985EF...|       CMT|2013-01-07 23:54:15|          CSH|           5|       0.5|     0.5|          0|            0|            6|\n",
      "|DFD2202EE08F7A8DC...|51EE87E3205C985EF...|       CMT|2013-01-07 23:25:03|          CSH|         9.5|       0.5|     0.5|          0|            0|         10.5|\n",
      "|20D9ECB2CA0767CF7...|598CCE5B9C1918568...|       CMT|2013-01-07 15:27:48|          CSH|         9.5|         0|     0.5|          0|            0|           10|\n",
      "|496644932DF393260...|513189AD756FF14FE...|       CMT|2013-01-08 11:01:15|          CSH|           6|         0|     0.5|          0|            0|          6.5|\n",
      "|0B57B9633A2FECD3D...|CCD4367B417ED6634...|       CMT|2013-01-07 12:39:18|          CSH|          34|         0|     0.5|          0|          4.8|         39.3|\n",
      "|2C0E91FF20A856C89...|1DA2F6543A62B8ED9...|       CMT|2013-01-07 18:15:47|          CSH|         5.5|         1|     0.5|          0|            0|            7|\n",
      "|2D4B95E2FA7B2E851...|CD2F522EEE1FF5F5A...|       CMT|2013-01-07 15:33:28|          CSH|          13|         0|     0.5|          0|            0|         13.5|\n",
      "+--------------------+--------------------+----------+-------------------+-------------+------------+----------+--------+-----------+-------------+-------------+\n",
      "only showing top 10 rows\n",
      "\n"
     ]
    }
   ],
   "source": [
    "fare.show(10)"
   ]
  },
  {
   "cell_type": "code",
   "execution_count": 4,
   "metadata": {},
   "outputs": [],
   "source": [
    "data.createOrReplaceTempView(\"trip_tbl\")\n",
    "fare.createOrReplaceTempView(\"fare_tbl\")"
   ]
  },
  {
   "cell_type": "code",
   "execution_count": 25,
   "metadata": {},
   "outputs": [],
   "source": [
    "merge = spark.sql(\"\"\"\n",
    "select\n",
    "t.medallion              \n",
    ", t.hack_license           \n",
    ", t.vendor_id              \n",
    ", t.pickup_datetime        \n",
    ", f.` payment_type` as payment_type           \n",
    ", f.` fare_amount` as fare_amount            \n",
    ", f.` surcharge` as surcharge              \n",
    ", f.` mta_tax` as mta_tax             \n",
    ", f.` tip_amount` as tip_amount            \n",
    ", f.` tolls_amount` as tolls_amount           \n",
    ", f.` total_amount` as total          \n",
    ", t.rate_code              \n",
    ", t.store_and_fwd_flag     \n",
    ", t.dropoff_datetime       \n",
    ", t.passenger_count     \n",
    ", t.trip_time_in_secs      \n",
    ", t.trip_distance          \n",
    ", t.pickup_longitude       \n",
    ", t.pickup_latitude        \n",
    ", t.dropoff_longitude      \n",
    ", t.dropoff_latitude      \n",
    "from \n",
    "trip_tbl t\n",
    "join \n",
    "fare_tbl f on \n",
    "(t.medallion = f.medallion \n",
    "and t.hack_license = f.` hack_license` \n",
    "and t.pickup_datetime = f.` pickup_datetime`)\"\"\").cache()"
   ]
  },
  {
   "cell_type": "code",
   "execution_count": null,
   "metadata": {},
   "outputs": [],
   "source": [
    "merge.write.parquet(\"s3://bigdatateaching/nyctaxi-2013/merged-parquet/\",mode=\"overwrite\")"
   ]
  }
 ],
 "metadata": {
  "anaconda-cloud": {},
  "celltoolbar": "Raw Cell Format",
  "kernelspec": {
   "display_name": "Python 2",
   "language": "python",
   "name": "python2"
  },
  "language_info": {
   "codemirror_mode": {
    "name": "ipython",
    "version": 2
   },
   "file_extension": ".py",
   "mimetype": "text/x-python",
   "name": "python",
   "nbconvert_exporter": "python",
   "pygments_lexer": "ipython2",
   "version": "2.7.13"
  }
 },
 "nbformat": 4,
 "nbformat_minor": 1
}
